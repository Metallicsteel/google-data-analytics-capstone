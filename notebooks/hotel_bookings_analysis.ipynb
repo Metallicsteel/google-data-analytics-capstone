{
 "cells": [
  {
   "cell_type": "markdown",
   "id": "bd414895",
   "metadata": {},
   "source": [
    "\n",
    "# Hotel Bookings Dataset — End‑to‑End Analysis\n",
    "\n",
    "This notebook is part of my data analytics portfolio. It demonstrates an end‑to‑end workflow on the popular **Hotel Bookings** dataset: data loading, cleaning, feature engineering, exploratory analysis, visualization, and insights.\n",
    "\n",
    "> Tools: **Python**, **pandas**, **matplotlib**.\n"
   ]
  },
  {
   "cell_type": "markdown",
   "id": "8604d956",
   "metadata": {},
   "source": [
    "\n",
    "## Business Task (Ask)\n",
    "Identify factors correlated with **booking cancellations** and surface actionable insights to **reduce cancellations** and **optimize revenue (ADR)**.\n"
   ]
  },
  {
   "cell_type": "code",
   "execution_count": null,
   "id": "64737568",
   "metadata": {},
   "outputs": [],
   "source": [
    "\n",
    "# --- Setup\n",
    "import pandas as pd\n",
    "import numpy as np\n",
    "import matplotlib.pyplot as plt\n",
    "\n",
    "# Optional: display settings\n",
    "pd.set_option('display.max_columns', 50)\n",
    "\n",
    "# Data path (place the CSV in the repository at: data/hotel_bookings.csv)\n",
    "DATA_PATH = 'data/hotel_bookings.csv'\n"
   ]
  },
  {
   "cell_type": "markdown",
   "id": "512155ab",
   "metadata": {},
   "source": [
    "## Prepare: Load & Preview Data"
   ]
  },
  {
   "cell_type": "code",
   "execution_count": null,
   "id": "51f0b51b",
   "metadata": {},
   "outputs": [],
   "source": [
    "\n",
    "# Load CSV (download the \"hotel_bookings.csv\" dataset and place it in data/)\n",
    "df = pd.read_csv(DATA_PATH)\n",
    "\n",
    "# Basic shape and preview\n",
    "print('Shape:', df.shape)\n",
    "df.head()\n"
   ]
  },
  {
   "cell_type": "markdown",
   "id": "1b5f9e46",
   "metadata": {},
   "source": [
    "\n",
    "## Process: Clean & Engineer Features\n",
    "Steps:\n",
    "- Standardize column names (already lowercase in the public dataset).\n",
    "- Handle missing values (children, country, agent/company).\n",
    "- Create **total_nights** and **total_guests**.\n",
    "- Create a proper **arrival_month_num** to sort months chronologically.\n"
   ]
  },
  {
   "cell_type": "code",
   "execution_count": null,
   "id": "1f4eb90f",
   "metadata": {},
   "outputs": [],
   "source": [
    "\n",
    "# Copy to avoid modifying original\n",
    "data = df.copy()\n",
    "\n",
    "# Replace obvious missing numeric fields with 0 and strings with 'Unknown'\n",
    "for col in ['children', 'babies', 'agent', 'company']:\n",
    "    if col in data.columns:\n",
    "        if data[col].dtype.kind in 'biufc':\n",
    "            data[col] = data[col].fillna(0)\n",
    "        else:\n",
    "            data[col] = data[col].fillna('Unknown')\n",
    "\n",
    "# Some datasets have children as floats with NaNs; ensure numeric\n",
    "if 'children' in data.columns:\n",
    "    data['children'] = pd.to_numeric(data['children'], errors='coerce').fillna(0).astype(int)\n",
    "\n",
    "# Total nights and guests\n",
    "if {'stays_in_weekend_nights','stays_in_week_nights'}.issubset(data.columns):\n",
    "    data['total_nights'] = data['stays_in_weekend_nights'] + data['stays_in_week_nights']\n",
    "else:\n",
    "    data['total_nights'] = np.nan\n",
    "\n",
    "guest_cols = [c for c in ['adults','children','babies'] if c in data.columns]\n",
    "if guest_cols:\n",
    "    data['total_guests'] = data[guest_cols].sum(axis=1)\n",
    "else:\n",
    "    data['total_guests'] = np.nan\n",
    "\n",
    "# Month number for chronological sorting\n",
    "if 'arrival_date_month' in data.columns:\n",
    "    month_order = ['January','February','March','April','May','June','July','August','September','October','November','December']\n",
    "    month_map = {m:i+1 for i,m in enumerate(month_order)}\n",
    "    data['arrival_month_num'] = data['arrival_date_month'].map(month_map).astype('Int64')\n",
    "\n",
    "# Convert reservation_status_date to datetime if present\n",
    "for dtcol in ['reservation_status_date']:\n",
    "    if dtcol in data.columns:\n",
    "        data[dtcol] = pd.to_datetime(data[dtcol], errors='coerce')\n",
    "\n",
    "# Drop duplicates\n",
    "data = data.drop_duplicates()\n",
    "data.head()\n"
   ]
  },
  {
   "cell_type": "markdown",
   "id": "da03c03e",
   "metadata": {},
   "source": [
    "## Analyze: Key Metrics"
   ]
  },
  {
   "cell_type": "code",
   "execution_count": null,
   "id": "1d15682b",
   "metadata": {},
   "outputs": [],
   "source": [
    "\n",
    "# Overall cancellation rate\n",
    "if 'is_canceled' in data.columns:\n",
    "    cancel_rate = data['is_canceled'].mean()\n",
    "    print(f'Overall cancellation rate: {cancel_rate:.2%}')\n",
    "\n",
    "# ADR summary\n",
    "if 'adr' in data.columns:\n",
    "    print('\\nADR (Average Daily Rate) summary:')\n",
    "    print(data['adr'].describe())\n",
    "\n",
    "# Cancellation by market segment\n",
    "group_cols = [c for c in ['market_segment','deposit_type','customer_type'] if c in data.columns]\n",
    "summaries = {}\n",
    "for col in group_cols:\n",
    "    summaries[col] = (data.groupby(col)['is_canceled'].mean().sort_values(ascending=False) if 'is_canceled' in data.columns else None)\n",
    "\n",
    "summaries\n"
   ]
  },
  {
   "cell_type": "markdown",
   "id": "2b5375c6",
   "metadata": {},
   "source": [
    "\n",
    "## Share: Visualizations\n",
    "The following figures will be saved under `images/` when you run the notebook locally.\n"
   ]
  },
  {
   "cell_type": "code",
   "execution_count": null,
   "id": "c6a23550",
   "metadata": {},
   "outputs": [],
   "source": [
    "\n",
    "# Create images directory if not exists\n",
    "import os\n",
    "os.makedirs('images', exist_ok=True)\n",
    "\n",
    "# 1) Cancellation rate by deposit type\n",
    "if {'deposit_type','is_canceled'}.issubset(data.columns):\n",
    "    fig = plt.figure(figsize=(8,5))\n",
    "    (data.groupby('deposit_type')['is_canceled'].mean()\n",
    "         .sort_values(ascending=False)\n",
    "         .plot(kind='bar'))\n",
    "    plt.title('Cancellation Rate by Deposit Type')\n",
    "    plt.ylabel('Cancellation Rate')\n",
    "    plt.xlabel('Deposit Type')\n",
    "    plt.tight_layout()\n",
    "    plt.savefig('images/cancel_by_deposit.png', dpi=200)\n",
    "    plt.show()\n",
    "\n",
    "# 2) Cancellation rate by market segment\n",
    "if {'market_segment','is_canceled'}.issubset(data.columns):\n",
    "    fig = plt.figure(figsize=(8,5))\n",
    "    (data.groupby('market_segment')['is_canceled'].mean()\n",
    "         .sort_values(ascending=False)\n",
    "         .plot(kind='bar'))\n",
    "    plt.title('Cancellation Rate by Market Segment')\n",
    "    plt.ylabel('Cancellation Rate')\n",
    "    plt.xlabel('Market Segment')\n",
    "    plt.tight_layout()\n",
    "    plt.savefig('images/cancel_by_segment.png', dpi=200)\n",
    "    plt.show()\n",
    "\n",
    "# 3) ADR by month (median)\n",
    "if {'arrival_date_month','adr'}.issubset(data.columns):\n",
    "    fig = plt.figure(figsize=(9,5))\n",
    "    (data.groupby(['arrival_date_month','arrival_month_num'])['adr']\n",
    "         .median()\n",
    "         .reset_index()\n",
    "         .sort_values('arrival_month_num')\n",
    "         .set_index('arrival_date_month')['adr']\n",
    "         .plot(kind='bar'))\n",
    "    plt.title('Median ADR by Month')\n",
    "    plt.ylabel('ADR (Median)')\n",
    "    plt.xlabel('Arrival Month')\n",
    "    plt.tight_layout()\n",
    "    plt.savefig('images/adr_by_month.png', dpi=200)\n",
    "    plt.show()\n"
   ]
  },
  {
   "cell_type": "markdown",
   "id": "55477a67",
   "metadata": {},
   "source": [
    "\n",
    "## Act: Insights & Recommendations (to edit after running)\n",
    "- **Deposit type** appears strongly associated with cancellation rate. Consider revisiting deposit policies (e.g., non‑refundable discounts vs. flexible terms).\n",
    "- **Market segments** with higher cancellations may need clearer communication, pricing transparency, or targeted retention offers.\n",
    "- **ADR by month** highlights seasonality. Use this to align promotional calendars and staffing.\n",
    "\n",
    "> Replace these bullets with your findings after executing the notebook on your local machine.\n"
   ]
  }
 ],
 "metadata": {},
 "nbformat": 4,
 "nbformat_minor": 5
}